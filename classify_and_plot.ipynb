{
 "cells": [
  {
   "cell_type": "code",
   "execution_count": null,
   "metadata": {},
   "outputs": [],
   "source": [
    "import os\n",
    "\n",
    "import matplotlib.pyplot as plt\n",
    "from matplotlib.colors import ListedColormap, BoundaryNorm\n",
    "import numpy as np\n",
    "import xarray as xr\n",
    "import rioxarray as rxr\n",
    "import earthpy as et\n",
    "import earthpy.plot as ep\n",
    "\n",
    "# Prettier plotting with seaborn\n",
    "import seaborn as sns\n",
    "sns.set(font_scale=1.5, style=\"whitegrid\")\n",
    "\n",
    "# Get data and set working directory\n",
    "et.data.get_data(\"colorado-flood\")\n",
    "os.chdir(os.path.join(et.io.HOME,\n",
    "                      'earth-analytics',\n",
    "                      'data'))"
   ]
  },
  {
   "cell_type": "code",
   "execution_count": null,
   "metadata": {},
   "outputs": [],
   "source": [
    "# Define relative paths to DTM and DSM files\n",
    "dtm_path = os.path.join(\"colorado-flood\",\n",
    "                        \"spatial\",\n",
    "                        \"boulder-leehill-rd\",\n",
    "                        \"pre-flood\",\n",
    "                        \"lidar\",\n",
    "                        \"pre_DTM.tif\")\n",
    "\n",
    "dsm_path = os.path.join(\"colorado-flood\",\n",
    "                        \"spatial\",\n",
    "                        \"boulder-leehill-rd\",\n",
    "                        \"pre-flood\",\n",
    "                        \"lidar\",\n",
    "                        \"pre_DSM.tif\")\n",
    "\n",
    "# Open DTM and DSM files\n",
    "pre_lidar_dtm = rxr.open_rasterio(dtm_path, masked=True).squeeze()\n",
    "pre_lidar_dsm = rxr.open_rasterio(dsm_path, masked=True).squeeze()\n",
    "\n",
    "# Create canopy height model (CHM)\n",
    "pre_lidar_chm = pre_lidar_dsm - pre_lidar_dtm\n",
    "pre_lidar_chm"
   ]
  },
  {
   "cell_type": "code",
   "execution_count": null,
   "metadata": {},
   "outputs": [],
   "source": [
    "# View min and max values in the data\n",
    "print('CHM min value:', np.nanmin(pre_lidar_chm))\n",
    "print('CHM max value:', np.nanmax(pre_lidar_chm))"
   ]
  },
  {
   "cell_type": "code",
   "execution_count": null,
   "metadata": {},
   "outputs": [],
   "source": [
    "f, ax = plt.subplots()\n",
    "pre_lidar_chm.plot.hist(color=\"purple\")\n",
    "ax.set(title=\"Distribution of Raster Cell Values in the CHM Data\",\n",
    "       xlabel=\"Height (m)\",\n",
    "       ylabel=\"Number of Pixels\")\n",
    "plt.show()"
   ]
  },
  {
   "cell_type": "code",
   "execution_count": null,
   "metadata": {},
   "outputs": [],
   "source": [
    "# Histogram with custom breaks\n",
    "f, ax = plt.subplots()\n",
    "pre_lidar_chm.plot.hist(color=\"purple\",\n",
    "                        bins=[0, 5, 10, 15, 20, 30])\n",
    "ax.set(title=\"Histogram with Custom Breaks\",\n",
    "       xlabel=\"Height (m)\",\n",
    "       ylabel=\"Number of Pixels\")\n",
    "\n",
    "plt.show()"
   ]
  },
  {
   "cell_type": "code",
   "execution_count": null,
   "metadata": {},
   "outputs": [],
   "source": [
    "# Histogram with custom breaks\n",
    "f, ax = plt.subplots()\n",
    "\n",
    "pre_lidar_chm.plot.hist(\n",
    "    color='purple',\n",
    "    bins=[0, 2, 7, 12, 30])\n",
    "ax.set(title=\"Histogram with Custom Breaks\",\n",
    "       xlabel=\"Height (m)\",\n",
    "       ylabel=\"Number of Pixels\")\n",
    "\n",
    "plt.show()"
   ]
  },
  {
   "cell_type": "code",
   "execution_count": null,
   "metadata": {},
   "outputs": [],
   "source": [
    "# Check nodata value for your array\n",
    "pre_lidar_chm.rio.nodata"
   ]
  },
  {
   "cell_type": "code",
   "execution_count": null,
   "metadata": {},
   "outputs": [],
   "source": [
    "data_min_value = np.nanmin(pre_lidar_chm)\n",
    "data_max_value = np.nanmax(pre_lidar_chm)\n",
    "print(data_min_value, data_max_value)"
   ]
  },
  {
   "cell_type": "code",
   "execution_count": null,
   "metadata": {},
   "outputs": [],
   "source": [
    "class_bins = [-np.inf, 2, 7, 12, np.inf]\n",
    "class_bins"
   ]
  },
  {
   "cell_type": "code",
   "execution_count": null,
   "metadata": {},
   "outputs": [],
   "source": [
    "pre_lidar_chm_class = xr.apply_ufunc(np.digitize,\n",
    "                                     pre_lidar_chm,\n",
    "                                     class_bins)"
   ]
  },
  {
   "cell_type": "code",
   "execution_count": null,
   "metadata": {},
   "outputs": [],
   "source": [
    "# Values of 5 represent missing data\n",
    "im = pre_lidar_chm_class.plot.imshow()\n",
    "ax.set_axis_off()"
   ]
  },
  {
   "cell_type": "code",
   "execution_count": null,
   "metadata": {},
   "outputs": [],
   "source": [
    "# Mask out values not equalt to 5\n",
    "pre_lidar_chm_class_ma = pre_lidar_chm_class.where(pre_lidar_chm_class != 5)\n",
    "pre_lidar_chm_class_ma"
   ]
  },
  {
   "cell_type": "code",
   "execution_count": null,
   "metadata": {},
   "outputs": [],
   "source": [
    "# Plot newly classified and masked raster\n",
    "f, ax = plt.subplots(figsize=(10,5))\n",
    "pre_lidar_chm_class_ma.plot.imshow()\n",
    "ax.set(title=\"Classified Plot With a Colorbar\")\n",
    "\n",
    "ax.set_axis_off()\n",
    "plt.show()"
   ]
  },
  {
   "cell_type": "code",
   "execution_count": null,
   "metadata": {},
   "outputs": [],
   "source": [
    "# Plot data using nicer colors\n",
    "colors = ['linen', 'lightgreen', 'darkgreen', 'maroon']\n",
    "class_bins = [.5, 1.5, 2.5, 3.5, 4.5]\n",
    "cmap = ListedColormap(colors)\n",
    "norm = BoundaryNorm(class_bins, \n",
    "                    len(colors))\n",
    "\n",
    "# Plot newly classified and masked raster\n",
    "f, ax = plt.subplots(figsize=(10, 5))\n",
    "pre_lidar_chm_class_ma.plot.imshow(cmap=cmap,\n",
    "                                   norm=norm)\n",
    "ax.set(title=\"Classified Plot With a Colorbar and Custom Colormap (cmap)\")\n",
    "ax.set_axis_off()\n",
    "plt.show()\n"
   ]
  },
  {
   "cell_type": "code",
   "execution_count": null,
   "metadata": {},
   "outputs": [],
   "source": [
    "# Create a list of labels to use for your legend\n",
    "height_class_labels = [\"Short trees\",\n",
    "                       \"Medium trees\",\n",
    "                       \"Tall trees\",\n",
    "                       \"Really tall trees\"]\n",
    "\n",
    "# Create a colormap from a list of colors\n",
    "colors = ['linen',\n",
    "          'lightgreen',\n",
    "          'darkgreen',\n",
    "          'maroon']\n",
    "\n",
    "cmap = ListedColormap(colors)\n",
    "\n",
    "class_bins = [.5, 1.5, 2.5, 3.5, 4.5]\n",
    "norm = BoundaryNorm(class_bins,\n",
    "                    len(colors))\n",
    "\n",
    "# Plot newly classified and masked raster\n",
    "f, ax = plt.subplots(figsize=(10, 5))\n",
    "im = pre_lidar_chm_class_ma.plot.imshow(cmap=cmap,\n",
    "                                        norm=norm,\n",
    "                                        # Turn off colorbar\n",
    "                                        add_colorbar=False)\n",
    "# Add legend using earthpy\n",
    "ep.draw_legend(im,\n",
    "               titles=height_class_labels)\n",
    "ax.set(title=\"Classified Lidar Canopy Height Model \\n Derived from NEON AOP Data\")\n",
    "ax.set_axis_off()\n",
    "plt.show()"
   ]
  },
  {
   "cell_type": "code",
   "execution_count": null,
   "metadata": {},
   "outputs": [],
   "source": []
  }
 ],
 "metadata": {
  "language_info": {
   "name": "python"
  }
 },
 "nbformat": 4,
 "nbformat_minor": 2
}
