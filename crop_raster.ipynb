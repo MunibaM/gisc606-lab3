{
 "cells": [
  {
   "cell_type": "code",
   "execution_count": null,
   "metadata": {},
   "outputs": [],
   "source": [
    "import os\n",
    "import matplotlib.pyplot as plt\n",
    "import seaborn as sns\n",
    "import numpy as np\n",
    "from shapely.geometry import mapping\n",
    "import rioxarray as rxr\n",
    "import xarray as xr\n",
    "import geopandas as gpd\n",
    "\n",
    "import earthpy as et\n",
    "import earthpy.plot as ep\n",
    "\n",
    "# Prettier plotting with seaborn\n",
    "sns.set(font_scale=1.5)\n",
    "\n",
    "# Get data and set working directory\n",
    "et.data.get_data(\"colorado-flood\")\n",
    "os.chdir(os.path.join(et.io.HOME,\n",
    "                      'earth-analytics',\n",
    "                      'data'))"
   ]
  },
  {
   "cell_type": "code",
   "execution_count": null,
   "metadata": {},
   "outputs": [],
   "source": [
    "lidar_chm_path = os.path.join(\"colorado-flood\", \n",
    "                              \"spatial\"\n",
    "                              \"boulder-leehill-rd\",\n",
    "                              \"outputs\",\n",
    "                              \"lidar_chm.tif\")\n",
    "\n",
    "lidar_chm_im = rxr.open_rasterio(\"colorado-flood/spatial/boulder-leehill-rd/outputs/lidar_chm.tif\",\n",
    "                                 masked=True).squeeze()\n",
    "\n",
    "f, ax = plt.subplots(figsize=(10, 5))\n",
    "lidar_chm_im.plot.imshow()\n",
    "ax.set(title=\"Lidar Canopy Height Model (CHM)\")\n",
    "\n",
    "ax.set_axis_off()\n",
    "plt.show()"
   ]
  },
  {
   "cell_type": "code",
   "execution_count": null,
   "metadata": {},
   "outputs": [],
   "source": [
    "aoi = os.path.join(\"colorado-flood\",\n",
    "                   \"spatial\",\n",
    "                   \"boulder-leehill-rd\",\n",
    "                   \"clip-extent.shp\")\n",
    "\n",
    "# Open crop extent (your study area extent boundary)\n",
    "crop_extent = gpd.read_file(aoi)"
   ]
  },
  {
   "cell_type": "code",
   "execution_count": null,
   "metadata": {},
   "outputs": [],
   "source": [
    "print('crop extent crs: ', crop_extent.crs)\n",
    "print('lidar crs: ', lidar_chm_im.rio.crs)"
   ]
  },
  {
   "cell_type": "code",
   "execution_count": null,
   "metadata": {},
   "outputs": [],
   "source": [
    "# Plot the crop boundary layer\n",
    "# Note this is just an example so you can see what it looks like\n",
    "# You don't need to plot this layer in your homework!\n",
    "fig, ax = plt.subplots(figsize=(6, 6))\n",
    "\n",
    "crop_extent.plot(ax=ax)\n",
    "\n",
    "ax.set_title(\"Shapefile Crop Extent\",\n",
    "             fontsize=16)\n",
    "plt.show()"
   ]
  },
  {
   "cell_type": "code",
   "execution_count": null,
   "metadata": {},
   "outputs": [],
   "source": [
    "f, ax = plt.subplots(figsize=(10, 5))\n",
    "lidar_chm_im.plot.imshow(ax=ax)\n",
    "\n",
    "crop_extent.plot(ax=ax,\n",
    "                 alpha=.8)\n",
    "ax.set(title=\"Raster Layer with Shapefile Overlayed\")\n",
    "\n",
    "ax.set_axis_off()\n",
    "plt.show()"
   ]
  },
  {
   "cell_type": "code",
   "execution_count": null,
   "metadata": {},
   "outputs": [],
   "source": [
    "lidar_clipped = lidar_chm_im.rio.clip(crop_extent.geometry.apply(mapping),\n",
    "                                      # This is needed if your GDF is in a diff CRS than the raster data\n",
    "                                      crop_extent.crs)\n",
    "\n",
    "f, ax = plt.subplots(figsize=(10, 4))\n",
    "lidar_clipped.plot(ax=ax)\n",
    "ax.set(title=\"Raster Layer Cropped to Geodataframe Extent\")\n",
    "ax.set_axis_off()\n",
    "plt.show()"
   ]
  },
  {
   "cell_type": "code",
   "execution_count": null,
   "metadata": {},
   "outputs": [],
   "source": [
    "path_to_tif_file = os.path.join(\"colorado-flood\",\n",
    "                                \"spatial\",\n",
    "                                \"outputs\",\n",
    "                                \"lidar_chm_cropped.tif\")\n",
    "\n",
    "# Write the data to a new geotiff file\n",
    "lidar_clipped.rio.to_raster(path_to_tif_file)"
   ]
  },
  {
   "cell_type": "code",
   "execution_count": null,
   "metadata": {},
   "outputs": [],
   "source": [
    "# Open the data you wrote out above\n",
    "clipped_chm = rxr.open_rasterio(path_to_tif_file)\n",
    "\n",
    "# Customize your plot as you wish!\n",
    "f, ax = plt.subplots(figsize=(10, 4))\n",
    "clipped_chm.plot(ax=ax,\n",
    "                 cmap='Greys')\n",
    "ax.set(title=\"Final Clipped CHM\")\n",
    "ax.set_axis_off()\n",
    "plt.show()"
   ]
  },
  {
   "cell_type": "code",
   "execution_count": null,
   "metadata": {},
   "outputs": [],
   "source": []
  }
 ],
 "metadata": {
  "language_info": {
   "name": "python"
  }
 },
 "nbformat": 4,
 "nbformat_minor": 2
}
