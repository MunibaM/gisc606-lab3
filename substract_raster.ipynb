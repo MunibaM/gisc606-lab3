{
 "cells": [
  {
   "cell_type": "code",
   "execution_count": null,
   "metadata": {},
   "outputs": [],
   "source": [
    "import os\n",
    "\n",
    "import numpy as np\n",
    "import matplotlib.pyplot as plt\n",
    "import seaborn as sns\n",
    "import rioxarray as rxr\n",
    "import earthpy as et\n",
    "\n",
    "# Prettier plotting with seaborn\n",
    "sns.set(font_scale=1.5, style=\"whitegrid\")\n",
    "\n",
    "# Get data and set working directory\n",
    "et.data.get_data(\"colorado-flood\")\n",
    "os.chdir(os.path.join(et.io.HOME,\n",
    "                      'earth-analytics',\n",
    "                      'data'))"
   ]
  },
  {
   "cell_type": "code",
   "execution_count": null,
   "metadata": {},
   "outputs": [],
   "source": [
    "# Define relative path to file\n",
    "lidar_dem_path = os.path.join(\"colorado-flood\",\n",
    "                              \"spatial\",\n",
    "                              \"boulder-leehill-rd\",\n",
    "                              \"pre-flood\",\n",
    "                              \"lidar\",\n",
    "                              \"pre_DTM.tif\")\n",
    "\n",
    "# Open lidar dem\n",
    "lidar_dem_xr = rxr.open_rasterio(lidar_dem_path, masked=True).squeeze()\n",
    "lidar_dem_xr"
   ]
  },
  {
   "cell_type": "code",
   "execution_count": null,
   "metadata": {},
   "outputs": [],
   "source": [
    "# Define relative path to file\n",
    "lidar_dsm_path = os.path.join(\"colorado-flood\",\n",
    "                              \"spatial\",\n",
    "                              \"boulder-leehill-rd\",\n",
    "                              \"pre-flood\",\n",
    "                              \"lidar\",\n",
    "                              \"pre_DSM.tif\")\n",
    "\n",
    "# Open lidar dem\n",
    "lidar_dsm_xr = rxr.open_rasterio(lidar_dsm_path, masked=True).squeeze()\n",
    "lidar_dsm_xr"
   ]
  },
  {
   "cell_type": "code",
   "execution_count": null,
   "metadata": {},
   "outputs": [],
   "source": [
    "# Are the bounds the same?\n",
    "print(\"Is the spatial extent the same?\",\n",
    "      lidar_dem_xr.rio.bounds() == lidar_dsm_xr.rio.bounds())\n",
    "\n",
    "# Is the resolution the same ??\n",
    "print(\"Is the resolution the same?\",\n",
    "      lidar_dem_xr.rio.resolution() == lidar_dsm_xr.rio.resolution())"
   ]
  },
  {
   "cell_type": "code",
   "execution_count": null,
   "metadata": {},
   "outputs": [],
   "source": [
    "# Calculate canopy height model\n",
    "lidar_chm_xr = lidar_dsm_xr - lidar_dem_xr\n",
    "\n",
    "# Plot the data\n",
    "f, ax = plt.subplots(figsize=(10, 5))\n",
    "lidar_chm_xr.plot(cmap=\"Greens\")\n",
    "ax.set(title=\"Canopy Height Model for Lee Hill Road Pre-Flood\")\n",
    "ax.set_axis_off()\n",
    "plt.show()"
   ]
  },
  {
   "cell_type": "code",
   "execution_count": null,
   "metadata": {},
   "outputs": [],
   "source": [
    "lidar_chm_xr.plot.hist()\n",
    "plt.show()"
   ]
  },
  {
   "cell_type": "code",
   "execution_count": null,
   "metadata": {},
   "outputs": [],
   "source": [
    "print('CHM minimum value: ', np.nanmin(lidar_chm_xr))\n",
    "print('CHM max value: ', np.nanmax(lidar_chm_xr))"
   ]
  },
  {
   "cell_type": "code",
   "execution_count": null,
   "metadata": {},
   "outputs": [],
   "source": [
    "data_path = os.path.join(\"colorado-flood\",\n",
    "                         \"spatial\",\n",
    "                         \"outputs\")\n",
    "\n",
    "if os.path.exists(data_path):\n",
    "    print(\"The directory\", data_path, \"exists!\")\n",
    "else:\n",
    "    os.makedirs(data_path)"
   ]
  },
  {
   "cell_type": "code",
   "execution_count": null,
   "metadata": {},
   "outputs": [],
   "source": [
    "# Make sure that your output data has a crs & no data value defined\n",
    "print(\"The crs is\", lidar_chm_xr.rio.crs)\n",
    "print(\"The no data value is\", lidar_chm_xr.rio.nodata)"
   ]
  },
  {
   "cell_type": "code",
   "execution_count": null,
   "metadata": {},
   "outputs": [],
   "source": [
    "pre_chm_data_path = os.path.join(data_path, \"pre-flood-chm.tif\")\n",
    "pre_chm_data_path"
   ]
  },
  {
   "cell_type": "code",
   "execution_count": null,
   "metadata": {},
   "outputs": [],
   "source": [
    "# Export data to geotiff\n",
    "lidar_chm_xr.rio.to_raster(pre_chm_data_path)"
   ]
  },
  {
   "cell_type": "code",
   "execution_count": null,
   "metadata": {},
   "outputs": [],
   "source": [
    "# Reopen the data\n",
    "lidar_chm_data = rxr.open_rasterio(pre_chm_data_path, masked=True).squeeze()\n",
    "lidar_chm_data"
   ]
  },
  {
   "cell_type": "code",
   "execution_count": null,
   "metadata": {},
   "outputs": [],
   "source": []
  }
 ],
 "metadata": {
  "language_info": {
   "name": "python"
  }
 },
 "nbformat": 4,
 "nbformat_minor": 2
}
