{
 "cells": [
  {
   "cell_type": "code",
   "execution_count": null,
   "metadata": {},
   "outputs": [],
   "source": [
    "# Import necessary packages\n",
    "import os\n",
    "import matplotlib.pyplot as plt\n",
    "import seaborn as sns\n",
    "import numpy as np\n",
    "import rioxarray as rxr\n",
    "import earthpy as et\n",
    "\n",
    "# Get data and set wd\n",
    "et.data.get_data(\"colorado-flood\")\n",
    "\n",
    "os.chdir(os.path.join(et.io.HOME,\n",
    "                      'earth-analytics',\n",
    "                      'data'))\n",
    "\n",
    "# Prettier plotting with seaborn\n",
    "sns.set(font_scale=1.5, style=\"whitegrid\")"
   ]
  },
  {
   "cell_type": "code",
   "execution_count": null,
   "metadata": {},
   "outputs": [],
   "source": [
    "# Define relative path to file\n",
    "lidar_dem_path = os.path.join(\"colorado-flood\", \n",
    "                              \"spatial\",\n",
    "                              \"boulder-leehill-rd\", \n",
    "                              \"pre-flood\", \n",
    "                              \"lidar\",\n",
    "                              \"pre_DTM.tif\")\n",
    "\n",
    "# Open data \n",
    "lidar_dem_im = rxr.open_rasterio(lidar_dem_path)\n",
    "\n",
    "# View object dimensions\n",
    "lidar_dem_im.shape"
   ]
  },
  {
   "cell_type": "code",
   "execution_count": null,
   "metadata": {},
   "outputs": [],
   "source": [
    "# Plot a histogram\n",
    "f, ax = plt.subplots(figsize=(10, 6))\n",
    "lidar_dem_im.plot.hist(ax=ax,\n",
    "       color=\"teal\")\n",
    "ax.set(title=\"Distribution of Lidar DEM Elevation Values\",\n",
    "       xlabel='Elevation (meters)',\n",
    "       ylabel='Frequency')\n",
    "plt.show()\n"
   ]
  },
  {
   "cell_type": "code",
   "execution_count": null,
   "metadata": {},
   "outputs": [],
   "source": [
    "# Open data \n",
    "lidar_dem_im = rxr.open_rasterio(lidar_dem_path, masked=True)\n",
    "\n",
    "# Plot a histogram\n",
    "f, ax = plt.subplots(figsize=(10, 6))\n",
    "lidar_dem_im.plot.hist(ax=ax,\n",
    "                       color=\"purple\",\n",
    "                       bins=30)\n",
    "ax.set(title=\"Distribution of Lidar DEM Elevation Values\",\n",
    "       xlabel='Elevation (meters)',\n",
    "       ylabel='Frequency')\n",
    "plt.show()"
   ]
  },
  {
   "cell_type": "code",
   "execution_count": null,
   "metadata": {},
   "outputs": [],
   "source": [
    "f, ax = plt.subplots(figsize=(10, 6))\n",
    "lidar_dem_im.plot.hist(ax=ax,\n",
    "                       color=\"purple\",\n",
    "                       bins=[1600, 1800, 2000, 2100])\n",
    "ax.set(title=\"Distribution of Lidar DEM Elevation Values\",\n",
    "       xlabel='Elevation (meters)',\n",
    "       ylabel='Frequency')\n",
    "plt.show()"
   ]
  },
  {
   "cell_type": "code",
   "execution_count": null,
   "metadata": {},
   "outputs": [],
   "source": []
  },
  {
   "cell_type": "code",
   "execution_count": null,
   "metadata": {},
   "outputs": [],
   "source": []
  }
 ],
 "metadata": {
  "language_info": {
   "name": "python"
  }
 },
 "nbformat": 4,
 "nbformat_minor": 2
}
